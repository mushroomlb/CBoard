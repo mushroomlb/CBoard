{
  "nbformat": 4,
  "nbformat_minor": 0,
  "metadata": {
    "colab": {
      "name": "Untitled6.ipynb",
      "provenance": [],
      "authorship_tag": "ABX9TyNuwy55Hw/0apGChLX8W7u/",
      "include_colab_link": true
    },
    "kernelspec": {
      "name": "python3",
      "display_name": "Python 3"
    },
    "language_info": {
      "name": "python"
    },
    "accelerator": "GPU"
  },
  "cells": [
    {
      "cell_type": "markdown",
      "metadata": {
        "id": "view-in-github",
        "colab_type": "text"
      },
      "source": [
        "<a href=\"https://colab.research.google.com/github/mushroomlb/CBoard/blob/master/cartoonize_test.ipynb\" target=\"_parent\"><img src=\"https://colab.research.google.com/assets/colab-badge.svg\" alt=\"Open In Colab\"/></a>"
      ]
    },
    {
      "cell_type": "code",
      "metadata": {
        "colab": {
          "base_uri": "https://localhost:8080/"
        },
        "id": "dervEVeM9io_",
        "outputId": "be006ee2-feea-49df-8732-fad2a3baac11"
      },
      "source": [
        "!git clone https://github.com/experience-ml/cartoonize.git"
      ],
      "execution_count": 1,
      "outputs": [
        {
          "output_type": "stream",
          "text": [
            "Cloning into 'cartoonize'...\n",
            "remote: Enumerating objects: 157, done.\u001b[K\n",
            "remote: Total 157 (delta 0), reused 0 (delta 0), pack-reused 157\u001b[K\n",
            "Receiving objects: 100% (157/157), 8.71 MiB | 30.55 MiB/s, done.\n",
            "Resolving deltas: 100% (74/74), done.\n"
          ],
          "name": "stdout"
        }
      ]
    },
    {
      "cell_type": "code",
      "metadata": {
        "colab": {
          "base_uri": "https://localhost:8080/"
        },
        "id": "YLYu0QWd-UFK",
        "outputId": "3add7706-8578-437e-dc2e-b8667852deaf"
      },
      "source": [
        "%cd cartoonize"
      ],
      "execution_count": 2,
      "outputs": [
        {
          "output_type": "stream",
          "text": [
            "/content/cartoonize\n"
          ],
          "name": "stdout"
        }
      ]
    },
    {
      "cell_type": "code",
      "metadata": {
        "colab": {
          "base_uri": "https://localhost:8080/",
          "height": 363
        },
        "id": "xWyFqIP1-XG_",
        "outputId": "28c6720d-7643-4df6-e522-6a16d8fcb434"
      },
      "source": [
        "!pip install -r requirements.txt"
      ],
      "execution_count": 3,
      "outputs": [
        {
          "output_type": "stream",
          "text": [
            "  Found existing installation: google-cloud-core 1.0.3\n",
            "    Uninstalling google-cloud-core-1.0.3:\n",
            "      Successfully uninstalled google-cloud-core-1.0.3\n",
            "  Found existing installation: google-resumable-media 0.4.1\n",
            "    Uninstalling google-resumable-media-0.4.1:\n",
            "      Successfully uninstalled google-resumable-media-0.4.1\n",
            "  Found existing installation: google-cloud-storage 1.18.1\n",
            "    Uninstalling google-cloud-storage-1.18.1:\n",
            "      Successfully uninstalled google-cloud-storage-1.18.1\n",
            "  Found existing installation: PyYAML 3.13\n",
            "    Uninstalling PyYAML-3.13:\n",
            "      Successfully uninstalled PyYAML-3.13\n",
            "Successfully installed Flask-1.0.2 Pillow-6.2.0 PyYaml-5.3.1 algorithmia-1.3.0 algorithmia-api-client-1.1.0 enum34-1.1.10 flask-ngrok-0.0.25 gast-0.2.2 google-cloud-core-1.6.0 google-cloud-storage-1.29.0 google-resumable-media-0.5.1 gunicorn-20.0.4 keras-applications-1.0.8 opencv-python-4.2.0.34 scikit-video-1.1.11 tensorboard-2.1.1 tensorflow-2.1.0 tensorflow-estimator-2.1.0 tf-slim-1.1.0\n"
          ],
          "name": "stdout"
        },
        {
          "output_type": "display_data",
          "data": {
            "application/vnd.colab-display-data+json": {
              "pip_warning": {
                "packages": [
                  "PIL",
                  "enum",
                  "google"
                ]
              }
            }
          },
          "metadata": {
            "tags": []
          }
        }
      ]
    },
    {
      "cell_type": "code",
      "metadata": {
        "colab": {
          "base_uri": "https://localhost:8080/"
        },
        "id": "9W51WgDB-5Ma",
        "outputId": "70e02043-188c-496e-97b9-156796eee99a"
      },
      "source": [
        "!python app.py"
      ],
      "execution_count": null,
      "outputs": [
        {
          "output_type": "stream",
          "text": [
            "2021-04-30 08:55:10.220664: W tensorflow/stream_executor/platform/default/dso_loader.cc:55] Could not load dynamic library 'libnvinfer.so.6'; dlerror: libnvinfer.so.6: cannot open shared object file: No such file or directory; LD_LIBRARY_PATH: /usr/lib64-nvidia\n",
            "2021-04-30 08:55:10.220827: W tensorflow/stream_executor/platform/default/dso_loader.cc:55] Could not load dynamic library 'libnvinfer_plugin.so.6'; dlerror: libnvinfer_plugin.so.6: cannot open shared object file: No such file or directory; LD_LIBRARY_PATH: /usr/lib64-nvidia\n",
            "2021-04-30 08:55:10.220849: W tensorflow/compiler/tf2tensorrt/utils/py_utils.cc:30] Cannot dlopen some TensorRT libraries. If you would like to use Nvidia GPU with TensorRT, please make sure the missing libraries mentioned above are installed properly.\n",
            "WARNING:tensorflow:From /usr/local/lib/python3.7/dist-packages/tf_slim/layers/layers.py:1089: Layer.apply (from tensorflow.python.keras.engine.base_layer) is deprecated and will be removed in a future version.\n",
            "Instructions for updating:\n",
            "Please use `layer.__call__` method instead.\n",
            "WARNING:tensorflow:From /usr/local/lib/python3.7/dist-packages/tensorflow_core/python/ops/resource_variable_ops.py:1635: calling BaseResourceVariable.__init__ (from tensorflow.python.ops.resource_variable_ops) with constraint is deprecated and will be removed in a future version.\n",
            "Instructions for updating:\n",
            "If using Keras pass *_constraint arguments to layers.\n",
            "2021-04-30 08:55:11.367600: I tensorflow/core/platform/cpu_feature_guard.cc:142] Your CPU supports instructions that this TensorFlow binary was not compiled to use: AVX2 FMA\n",
            "2021-04-30 08:55:11.372483: I tensorflow/core/platform/profile_utils/cpu_utils.cc:94] CPU Frequency: 2199995000 Hz\n",
            "2021-04-30 08:55:11.372694: I tensorflow/compiler/xla/service/service.cc:168] XLA service 0x564d19f56680 initialized for platform Host (this does not guarantee that XLA will be used). Devices:\n",
            "2021-04-30 08:55:11.372728: I tensorflow/compiler/xla/service/service.cc:176]   StreamExecutor device (0): Host, Default Version\n",
            "2021-04-30 08:55:11.376302: I tensorflow/stream_executor/platform/default/dso_loader.cc:44] Successfully opened dynamic library libcuda.so.1\n",
            "2021-04-30 08:55:11.557042: I tensorflow/stream_executor/cuda/cuda_gpu_executor.cc:981] successful NUMA node read from SysFS had negative value (-1), but there must be at least one NUMA node, so returning NUMA node zero\n",
            "2021-04-30 08:55:11.557837: I tensorflow/compiler/xla/service/service.cc:168] XLA service 0x564d19f57800 initialized for platform CUDA (this does not guarantee that XLA will be used). Devices:\n",
            "2021-04-30 08:55:11.557877: I tensorflow/compiler/xla/service/service.cc:176]   StreamExecutor device (0): Tesla T4, Compute Capability 7.5\n",
            "2021-04-30 08:55:11.559551: I tensorflow/stream_executor/cuda/cuda_gpu_executor.cc:981] successful NUMA node read from SysFS had negative value (-1), but there must be at least one NUMA node, so returning NUMA node zero\n",
            "2021-04-30 08:55:11.560071: I tensorflow/core/common_runtime/gpu/gpu_device.cc:1555] Found device 0 with properties: \n",
            "pciBusID: 0000:00:04.0 name: Tesla T4 computeCapability: 7.5\n",
            "coreClock: 1.59GHz coreCount: 40 deviceMemorySize: 14.75GiB deviceMemoryBandwidth: 298.08GiB/s\n",
            "2021-04-30 08:55:11.573355: I tensorflow/stream_executor/platform/default/dso_loader.cc:44] Successfully opened dynamic library libcudart.so.10.1\n",
            "2021-04-30 08:55:11.825063: I tensorflow/stream_executor/platform/default/dso_loader.cc:44] Successfully opened dynamic library libcublas.so.10\n",
            "2021-04-30 08:55:11.965910: I tensorflow/stream_executor/platform/default/dso_loader.cc:44] Successfully opened dynamic library libcufft.so.10\n",
            "2021-04-30 08:55:11.983563: I tensorflow/stream_executor/platform/default/dso_loader.cc:44] Successfully opened dynamic library libcurand.so.10\n",
            "2021-04-30 08:55:12.264368: I tensorflow/stream_executor/platform/default/dso_loader.cc:44] Successfully opened dynamic library libcusolver.so.10\n",
            "2021-04-30 08:55:12.279683: I tensorflow/stream_executor/platform/default/dso_loader.cc:44] Successfully opened dynamic library libcusparse.so.10\n",
            "2021-04-30 08:55:12.781694: I tensorflow/stream_executor/platform/default/dso_loader.cc:44] Successfully opened dynamic library libcudnn.so.7\n",
            "2021-04-30 08:55:12.781907: I tensorflow/stream_executor/cuda/cuda_gpu_executor.cc:981] successful NUMA node read from SysFS had negative value (-1), but there must be at least one NUMA node, so returning NUMA node zero\n",
            "2021-04-30 08:55:12.782632: I tensorflow/stream_executor/cuda/cuda_gpu_executor.cc:981] successful NUMA node read from SysFS had negative value (-1), but there must be at least one NUMA node, so returning NUMA node zero\n",
            "2021-04-30 08:55:12.783137: I tensorflow/core/common_runtime/gpu/gpu_device.cc:1697] Adding visible gpu devices: 0\n",
            "2021-04-30 08:55:12.783241: I tensorflow/stream_executor/platform/default/dso_loader.cc:44] Successfully opened dynamic library libcudart.so.10.1\n",
            "2021-04-30 08:55:12.785453: I tensorflow/core/common_runtime/gpu/gpu_device.cc:1096] Device interconnect StreamExecutor with strength 1 edge matrix:\n",
            "2021-04-30 08:55:12.785486: I tensorflow/core/common_runtime/gpu/gpu_device.cc:1102]      0 \n",
            "2021-04-30 08:55:12.785497: I tensorflow/core/common_runtime/gpu/gpu_device.cc:1115] 0:   N \n",
            "2021-04-30 08:55:12.785619: I tensorflow/stream_executor/cuda/cuda_gpu_executor.cc:981] successful NUMA node read from SysFS had negative value (-1), but there must be at least one NUMA node, so returning NUMA node zero\n",
            "2021-04-30 08:55:12.786183: I tensorflow/stream_executor/cuda/cuda_gpu_executor.cc:981] successful NUMA node read from SysFS had negative value (-1), but there must be at least one NUMA node, so returning NUMA node zero\n",
            "2021-04-30 08:55:12.786722: I tensorflow/core/common_runtime/gpu/gpu_device.cc:1241] Created TensorFlow device (/job:localhost/replica:0/task:0/device:GPU:0 with 14257 MB memory) -> physical GPU (device: 0, name: Tesla T4, pci bus id: 0000:00:04.0, compute capability: 7.5)\n",
            "Weights successfully loaded\n",
            " * Serving Flask app \"app\" (lazy loading)\n",
            " * Environment: production\n",
            "\u001b[31m   WARNING: Do not use the development server in a production environment.\u001b[0m\n",
            "\u001b[2m   Use a production WSGI server instead.\u001b[0m\n",
            " * Debug mode: off\n",
            " * Running on http://127.0.0.1:5000/ (Press CTRL+C to quit)\n",
            " * Running on http://a850137137d2.ngrok.io\n",
            " * Traffic stats available on http://127.0.0.1:4040\n",
            "127.0.0.1 - - [30/Apr/2021 08:55:26] \"\u001b[37mGET / HTTP/1.1\u001b[0m\" 200 -\n",
            "127.0.0.1 - - [30/Apr/2021 08:55:27] \"\u001b[37mGET /static/sample_images/emma2.jpg HTTP/1.1\u001b[0m\" 200 -\n",
            "127.0.0.1 - - [30/Apr/2021 08:55:27] \"\u001b[37mGET /static/sample_images/emma2_cartoonized.jpg HTTP/1.1\u001b[0m\" 200 -\n",
            "127.0.0.1 - - [30/Apr/2021 08:55:27] \"\u001b[37mGET /static/sample_images/spice.jpeg HTTP/1.1\u001b[0m\" 200 -\n",
            "127.0.0.1 - - [30/Apr/2021 08:55:27] \"\u001b[37mGET /static/sample_images/spice_cartoonized.jpeg HTTP/1.1\u001b[0m\" 200 -\n",
            "127.0.0.1 - - [30/Apr/2021 08:55:27] \"\u001b[37mGET /static/sample_images/cake.jpeg HTTP/1.1\u001b[0m\" 200 -\n",
            "127.0.0.1 - - [30/Apr/2021 08:55:27] \"\u001b[37mGET /static/sample_images/cake_cartoonized.jpeg HTTP/1.1\u001b[0m\" 200 -\n",
            "127.0.0.1 - - [30/Apr/2021 08:55:30] \"\u001b[33mGET /favicon.ico HTTP/1.1\u001b[0m\" 404 -\n",
            "2021-04-30 08:55:41.783491: I tensorflow/stream_executor/platform/default/dso_loader.cc:44] Successfully opened dynamic library libcudnn.so.7\n",
            "2021-04-30 08:55:46.713263: I tensorflow/stream_executor/platform/default/dso_loader.cc:44] Successfully opened dynamic library libcublas.so.10\n",
            "127.0.0.1 - - [30/Apr/2021 08:55:48] \"\u001b[37mPOST /cartoonize HTTP/1.1\u001b[0m\" 200 -\n",
            "127.0.0.1 - - [30/Apr/2021 08:55:49] \"\u001b[37mGET /static/cartoonized_images/2d7cf2a4-94d8-4d8d-8395-dccb6eb1d60b.jpg HTTP/1.1\u001b[0m\" 200 -\n",
            "127.0.0.1 - - [30/Apr/2021 08:56:00] \"\u001b[37mPOST /cartoonize HTTP/1.1\u001b[0m\" 200 -\n",
            "127.0.0.1 - - [30/Apr/2021 08:56:01] \"\u001b[37mGET /static/cartoonized_images/75a73432-be44-44fc-bd11-8cf45d2df757.jpg HTTP/1.1\u001b[0m\" 200 -\n",
            "127.0.0.1 - - [30/Apr/2021 08:59:28] \"\u001b[37mGET / HTTP/1.1\u001b[0m\" 200 -\n"
          ],
          "name": "stdout"
        }
      ]
    }
  ]
}